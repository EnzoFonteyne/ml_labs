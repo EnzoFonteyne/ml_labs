{
 "cells": [
  {
   "cell_type": "markdown",
   "metadata": {},
   "source": [
    "# Um projeto de *machine learning*"
   ]
  },
  {
   "cell_type": "markdown",
   "metadata": {},
   "source": [
    "Vamos construir um exemplo de projeto de *machine learning* nestas primeiras aulas. Para isso vamos usar um *dataset* de preços de carros usados."
   ]
  },
  {
   "cell_type": "markdown",
   "metadata": {},
   "source": [
    "## Obtendo os dados"
   ]
  },
  {
   "cell_type": "markdown",
   "metadata": {},
   "source": [
    "O *dataset* vem do *site* 'Kaggle' (https://www.kaggle.com/). Sempre que possível é bom automatizar o processo de *download*, descompactação e leitura dos dados."
   ]
  },
  {
   "cell_type": "code",
   "execution_count": 1,
   "metadata": {},
   "outputs": [],
   "source": [
    "import zipfile\n",
    "from pathlib import Path\n",
    "\n",
    "import pandas as pd\n",
    "import requests\n",
    "\n",
    "DATA_DIR = Path.cwd().resolve().parents[2] / 'datasets' / 'car_price'\n",
    "_CAR_DATASET_URL = 'https://www.kaggle.com/api/v1/datasets/download/asinow/car-price-dataset'\n",
    "_TIMEOUT = 10\n",
    "_COMPRESSED_CAR_DATASET_FILENAME = 'car_price_dataset.zip'\n",
    "_CAR_DATASET_FILENAME = 'car_price_dataset.csv'\n",
    "\n",
    "def _fetch_car_dataset(raw_dataset_path: Path, data_dir: Path) -> None:\n",
    "    '''Fetches the car dataset from Kaggle and saves it to the data_dir.\n",
    "    '''\n",
    "    data_dir.mkdir(parents=True, exist_ok=True)\n",
    "    response = requests.get(_CAR_DATASET_URL, timeout=_TIMEOUT)\n",
    "    response.raise_for_status()\n",
    "    with open(raw_dataset_path, 'wb') as f:\n",
    "        f.write(response.content)\n",
    "\n",
    "\n",
    "def _unpack_car_dataset(raw_dataset_path: Path, data_dir: Path) -> None:\n",
    "    '''Unpacks the car dataset from the data_dir.\n",
    "    '''\n",
    "    with zipfile.ZipFile(raw_dataset_path, 'r') as zip_ref:\n",
    "        zip_ref.extractall(data_dir)\n",
    "\n",
    "\n",
    "def _fetch_and_unpack_car_dataset(data_dir: Path) -> None:\n",
    "    '''Fetches and unpacks the car dataset from Kaggle.\n",
    "    '''\n",
    "    raw_dataset_path = data_dir / _COMPRESSED_CAR_DATASET_FILENAME\n",
    "    _fetch_car_dataset(raw_dataset_path, data_dir)\n",
    "    _unpack_car_dataset(raw_dataset_path, data_dir)\n",
    "\n",
    "\n",
    "def load_car_dataset(data_dir: Path) -> None:\n",
    "    '''Loads the car dataset from the data_dir.\n",
    "    '''\n",
    "    dataset_path = data_dir / _CAR_DATASET_FILENAME\n",
    "    if not dataset_path.exists():\n",
    "        _fetch_and_unpack_car_dataset(data_dir)\n",
    "    dataset = pd.read_csv(dataset_path)\n",
    "    return dataset"
   ]
  },
  {
   "cell_type": "code",
   "execution_count": 2,
   "metadata": {},
   "outputs": [],
   "source": [
    "dataset = load_car_dataset(DATA_DIR)"
   ]
  },
  {
   "cell_type": "markdown",
   "metadata": {},
   "source": [
    "Verifique que o código funcionou:"
   ]
  },
  {
   "cell_type": "code",
   "execution_count": 3,
   "metadata": {},
   "outputs": [
    {
     "data": {
      "text/html": [
       "<div>\n",
       "<style scoped>\n",
       "    .dataframe tbody tr th:only-of-type {\n",
       "        vertical-align: middle;\n",
       "    }\n",
       "\n",
       "    .dataframe tbody tr th {\n",
       "        vertical-align: top;\n",
       "    }\n",
       "\n",
       "    .dataframe thead th {\n",
       "        text-align: right;\n",
       "    }\n",
       "</style>\n",
       "<table border=\"1\" class=\"dataframe\">\n",
       "  <thead>\n",
       "    <tr style=\"text-align: right;\">\n",
       "      <th></th>\n",
       "      <th>Brand</th>\n",
       "      <th>Model</th>\n",
       "      <th>Year</th>\n",
       "      <th>Engine_Size</th>\n",
       "      <th>Fuel_Type</th>\n",
       "      <th>Transmission</th>\n",
       "      <th>Mileage</th>\n",
       "      <th>Doors</th>\n",
       "      <th>Owner_Count</th>\n",
       "      <th>Price</th>\n",
       "    </tr>\n",
       "  </thead>\n",
       "  <tbody>\n",
       "    <tr>\n",
       "      <th>0</th>\n",
       "      <td>Kia</td>\n",
       "      <td>Rio</td>\n",
       "      <td>2020</td>\n",
       "      <td>4.2</td>\n",
       "      <td>Diesel</td>\n",
       "      <td>Manual</td>\n",
       "      <td>289944</td>\n",
       "      <td>3</td>\n",
       "      <td>5</td>\n",
       "      <td>8501</td>\n",
       "    </tr>\n",
       "    <tr>\n",
       "      <th>1</th>\n",
       "      <td>Chevrolet</td>\n",
       "      <td>Malibu</td>\n",
       "      <td>2012</td>\n",
       "      <td>2.0</td>\n",
       "      <td>Hybrid</td>\n",
       "      <td>Automatic</td>\n",
       "      <td>5356</td>\n",
       "      <td>2</td>\n",
       "      <td>3</td>\n",
       "      <td>12092</td>\n",
       "    </tr>\n",
       "    <tr>\n",
       "      <th>2</th>\n",
       "      <td>Mercedes</td>\n",
       "      <td>GLA</td>\n",
       "      <td>2020</td>\n",
       "      <td>4.2</td>\n",
       "      <td>Diesel</td>\n",
       "      <td>Automatic</td>\n",
       "      <td>231440</td>\n",
       "      <td>4</td>\n",
       "      <td>2</td>\n",
       "      <td>11171</td>\n",
       "    </tr>\n",
       "    <tr>\n",
       "      <th>3</th>\n",
       "      <td>Audi</td>\n",
       "      <td>Q5</td>\n",
       "      <td>2023</td>\n",
       "      <td>2.0</td>\n",
       "      <td>Electric</td>\n",
       "      <td>Manual</td>\n",
       "      <td>160971</td>\n",
       "      <td>2</td>\n",
       "      <td>1</td>\n",
       "      <td>11780</td>\n",
       "    </tr>\n",
       "    <tr>\n",
       "      <th>4</th>\n",
       "      <td>Volkswagen</td>\n",
       "      <td>Golf</td>\n",
       "      <td>2003</td>\n",
       "      <td>2.6</td>\n",
       "      <td>Hybrid</td>\n",
       "      <td>Semi-Automatic</td>\n",
       "      <td>286618</td>\n",
       "      <td>3</td>\n",
       "      <td>3</td>\n",
       "      <td>2867</td>\n",
       "    </tr>\n",
       "  </tbody>\n",
       "</table>\n",
       "</div>"
      ],
      "text/plain": [
       "        Brand   Model  Year  Engine_Size Fuel_Type    Transmission  Mileage  \\\n",
       "0         Kia     Rio  2020          4.2    Diesel          Manual   289944   \n",
       "1   Chevrolet  Malibu  2012          2.0    Hybrid       Automatic     5356   \n",
       "2    Mercedes     GLA  2020          4.2    Diesel       Automatic   231440   \n",
       "3        Audi      Q5  2023          2.0  Electric          Manual   160971   \n",
       "4  Volkswagen    Golf  2003          2.6    Hybrid  Semi-Automatic   286618   \n",
       "\n",
       "   Doors  Owner_Count  Price  \n",
       "0      3            5   8501  \n",
       "1      2            3  12092  \n",
       "2      4            2  11171  \n",
       "3      2            1  11780  \n",
       "4      3            3   2867  "
      ]
     },
     "execution_count": 3,
     "metadata": {},
     "output_type": "execute_result"
    }
   ],
   "source": [
    "dataset.head()"
   ]
  },
  {
   "cell_type": "code",
   "execution_count": 4,
   "metadata": {},
   "outputs": [
    {
     "name": "stdout",
     "output_type": "stream",
     "text": [
      "<class 'pandas.core.frame.DataFrame'>\n",
      "RangeIndex: 10000 entries, 0 to 9999\n",
      "Data columns (total 10 columns):\n",
      " #   Column        Non-Null Count  Dtype  \n",
      "---  ------        --------------  -----  \n",
      " 0   Brand         10000 non-null  object \n",
      " 1   Model         10000 non-null  object \n",
      " 2   Year          10000 non-null  int64  \n",
      " 3   Engine_Size   10000 non-null  float64\n",
      " 4   Fuel_Type     10000 non-null  object \n",
      " 5   Transmission  10000 non-null  object \n",
      " 6   Mileage       10000 non-null  int64  \n",
      " 7   Doors         10000 non-null  int64  \n",
      " 8   Owner_Count   10000 non-null  int64  \n",
      " 9   Price         10000 non-null  int64  \n",
      "dtypes: float64(1), int64(5), object(4)\n",
      "memory usage: 781.4+ KB\n"
     ]
    }
   ],
   "source": [
    "dataset.info()"
   ]
  },
  {
   "cell_type": "markdown",
   "metadata": {},
   "source": [
    "Parece que deu tudo certo com este dataset."
   ]
  },
  {
   "cell_type": "markdown",
   "metadata": {},
   "source": [
    "---\n",
    "\n",
    "***Atividade***\n",
    "\n",
    "Verifique se a criação dos arquivos de dados realmente ocorreu.\n",
    "\n",
    "---"
   ]
  },
  {
   "cell_type": "markdown",
   "metadata": {},
   "source": [
    "Vamos agora mover o código de leitura dos dados para um pacote Python, de modo a tornar o código disponível para todos."
   ]
  },
  {
   "cell_type": "markdown",
   "metadata": {},
   "source": [
    "## Criando um pacote de código Python"
   ]
  },
  {
   "cell_type": "markdown",
   "metadata": {},
   "source": [
    "Códigos Python são organizados em *scripts*, *módulos* e *pacotes*. Além desses tipos de código, temos também os *notebooks*, que são interativos."
   ]
  },
  {
   "cell_type": "markdown",
   "metadata": {},
   "source": [
    "### Scripts"
   ]
  },
  {
   "cell_type": "markdown",
   "metadata": {},
   "source": [
    "***Scripts*** são arquivos que contêm código Python e são executados diretamente. São arquivos com extensão `.py` feitos para serem executados pelo interpretador Python na linha de comando. Por exemplo:\n",
    "\n",
    "- Crie um diretório `meu_projeto`. Nele vamos criar um arquivo `meu_script.py`. A estrutura de diretórios ficou assim:\n",
    "\n",
    "    > ```text\n",
    "    > meu_projeto/\n",
    "    > └── meu_script.py\n",
    "    > ```\n",
    "\n",
    "- Eis um *script* Python (`meu_script.py`):\n",
    "\n",
    "    > ```Python\n",
    "    > '''Imprime uma saudação colorida na tela.\n",
    "    > '''\n",
    "    > import colorama\n",
    "    > \n",
    "    > \n",
    "    > def main() -> None:\n",
    "    >     '''Função principal do script.\n",
    "    >     '''\n",
    "    >     # Prepara a Colorama para funcionar corretamente,\n",
    "    >     # especialmente em ambientes Windows.\n",
    "    >     colorama.init()\n",
    "    > \n",
    "    >     styling = colorama.Fore.RED + colorama.Back.YELLOW + colorama.Style.BRIGHT\n",
    "    >     reset_styling = colorama.Style.RESET_ALL\n",
    "    > \n",
    "    >     print(styling + 'Hello, World!' + reset_styling)\n",
    "    > \n",
    "    >     colorama.deinit()\n",
    "    > \n",
    "    > \n",
    "    > if __name__ == '__main__':\n",
    "    >     main()\n",
    "    > ```\n",
    "\n",
    "- E podemos executar esse *script* na linha de comando:\n",
    "\n",
    "    > ```bash\n",
    "    > cd meu_projeto\n",
    "    > python meu_script.py\n",
    "    > ```"
   ]
  },
  {
   "cell_type": "markdown",
   "metadata": {},
   "source": [
    "---\n",
    "\n",
    "***Atividade***\n",
    "\n",
    "Escreva e rode os códigos acima para verificar se funcionam.\n",
    "\n",
    "---"
   ]
  },
  {
   "cell_type": "markdown",
   "metadata": {},
   "source": [
    "### Módulos"
   ]
  },
  {
   "cell_type": "markdown",
   "metadata": {},
   "source": [
    "**Módulos** são arquivos que contêm código Python e são importados por outros módulos ou scripts. São arquivos também com extensão `.py` mas cujo propósito é ser *importado* em outros códigos, veja um exemplo:\n",
    "\n",
    "- No diretório `meu_projeto` adicione o arquivo `meu_modulo.py` abaixo. A estrutura de diretórios fica assim:\n",
    "\n",
    "    ```text\n",
    "    meu_projeto/\n",
    "    ├── meu_modulo.py\n",
    "    └── meu_script.py\n",
    "    ```\n",
    "\n",
    "- `meu_modulo.py`\n",
    "\n",
    "    > ```Python\n",
    "    > '''Módulo de exemplo para demonstrar a criação de pacotes.\n",
    "    > '''\n",
    "    > import colorama\n",
    "    > \n",
    "    > \n",
    "    > def say_hello(name: str | None = 'world') -> None:\n",
    "    >     '''Imprime uma saudação colorida na tela.\n",
    "    > \n",
    "    >     Args:\n",
    "    >         name (str, optional): Nome a ser saudado.\n",
    "    >     '''\n",
    "    >     # Prepara a Colorama para funcionar corretamente,\n",
    "    >     # especialmente em ambientes Windows.\n",
    "    >     colorama.init()\n",
    "    > \n",
    "    >     styling = colorama.Fore.RED + colorama.Back.YELLOW + colorama.Style.BRIGHT\n",
    "    >     reset_styling = colorama.Style.RESET_ALL\n",
    "    > \n",
    "    >     print(styling + f'Hello, {name}' + reset_styling)\n",
    "    > \n",
    "    >     colorama.deinit()\n",
    "    > ```\n",
    "\n",
    "- E agora modifique o *script* `meu_script.py` para que importe o módulo:\n",
    "\n",
    "    > ```Python\n",
    "    > '''Imprime uma saudação colorida na tela.\n",
    "    > '''\n",
    "    > import meu_modulo\n",
    "    > \n",
    "    > def main() -> None:\n",
    "    >     '''Função principal do script.\n",
    "    >     '''\n",
    "    >     meu_modulo.say_hello('Insper')\n",
    "    > \n",
    "    > if __name__ == '__main__':\n",
    "    >     main()\n",
    "    > ```"
   ]
  },
  {
   "cell_type": "markdown",
   "metadata": {},
   "source": [
    "---\n",
    "\n",
    "***Atividade***\n",
    "\n",
    "Escreva e rode os códigos acima para verificar se funcionam.\n",
    "\n",
    "---"
   ]
  },
  {
   "cell_type": "markdown",
   "metadata": {},
   "source": [
    "### Pacotes"
   ]
  },
  {
   "cell_type": "markdown",
   "metadata": {},
   "source": [
    "**Pacotes** são diretórios que contêm módulos e um arquivo especial chamado `__init__.py` (note o uso de *underscores* duplos em ambos os lados. Em Python, esses *underscores* duplos são chamados de *dunders* - *double underscores*). Eis um exemplo:\n",
    "\n",
    "- Nossa estrutura de arquivos seria assim:\n",
    "\n",
    "    > ```text\n",
    "    > meu_script.py\n",
    "    > meu_pacote/\n",
    "    > ├── __init__.py\n",
    "    > └── meu_modulo.py\n",
    "    > ```\n",
    "\n",
    "- `meu_modulo.py` é o módulo acima\n",
    "\n",
    "- `__init__.py` é um arquivo vazio\n",
    "\n",
    "- `meu_script.py` é assim:\n",
    "\n",
    "    > ```Python\n",
    "    > '''Imprime uma saudação colorida na tela.\n",
    "    > '''\n",
    "    > import meu_package.meu_modulo as mm\n",
    "    > \n",
    "    > def main() -> None:\n",
    "    >     '''Função principal do script.\n",
    "    >     '''\n",
    "    >     mm.say_hello('Insper')\n",
    "    > \n",
    "    > if __name__ == '__main__':\n",
    "    >     main()\n",
    "    > ```"
   ]
  },
  {
   "cell_type": "markdown",
   "metadata": {},
   "source": [
    "---\n",
    "\n",
    "***Atividade***\n",
    "\n",
    "Escreva e rode os códigos acima para verificar se funcionam.\n",
    "\n",
    "---"
   ]
  },
  {
   "cell_type": "markdown",
   "metadata": {},
   "source": [
    "### Notebooks"
   ]
  },
  {
   "cell_type": "markdown",
   "metadata": {},
   "source": [
    "E você está trabalhando aonde mesmo?"
   ]
  },
  {
   "cell_type": "markdown",
   "metadata": {},
   "source": [
    "### Pacotes instaláveis"
   ]
  },
  {
   "cell_type": "markdown",
   "metadata": {},
   "source": [
    "Quando fazemos um *pacote* Python, é importante que ele seja *localizável* pelos outros códigos. Pense em *pacotes* que você importa o tempo todo, como o *Pandas*. Este pacote não está no mesmo diretório que seu *script* ou *notebook*, como foi o caso do exemplo acima. Como ele é localizado então na hora de rodar seu código Python que importa o Pandas?\n",
    "\n",
    "Existem algumas formas de tornar um código *localizável*:\n",
    "\n",
    "- Colocar o diretório do seu pacote na variável de ambiente `PYTHONPATH`, ou\n",
    "\n",
    "- Transformar seu pacote em um pacote *instalável*\n",
    "\n",
    "Prefiro a segunda opção - ela permite que seu código evolua a ponto de um dia ser instalado diretamente do repositório central de pacotes Python, o PyPI!\n",
    "\n",
    "Para tornar seu código instalável, você precisa criar um arquivo `pyproject.toml` no seu projeto, veja o exemplo:\n",
    "\n",
    "- A estrutura de arquivos e diretórios do projeto fica assim:\n",
    "\n",
    "    > ```text\n",
    "    > meu_projeto/\n",
    "    > ├── src/\n",
    "    > │   └── meu_pacote/\n",
    "    > │       ├── __init__.py\n",
    "    > │       └── meu_modulo.py\n",
    "    > ├── notebooks/\n",
    "    > │   └── meu_notebook.ipynb\n",
    "    > ├── scripts/\n",
    "    > │   └── meu_script.py\n",
    "    > ├── pyproject.toml\n",
    "    > └── README.md\n",
    "    > ```\n",
    "\n",
    "onde `meu_modulo.py` e `meu_script` tem o conteúdo acima.\n",
    "\n",
    "- O arquivo `pyproject.toml` armazena informações à respeito do seu projeto Python como um todo, incluindo instruções para instalação dos pacotes, configuração de ferramentas de teste, etc. Para nossos propósitos vamos fazer o arquivo `pyproject.toml` mais simples possível:\n",
    "\n",
    "    > ```toml\n",
    "    > [build-system]\n",
    "    > requires = [\"setuptools>=61.0\"]\n",
    "    > build-backend = \"setuptools.build_meta\"\n",
    "    > \n",
    "    > [project]\n",
    "    > name = \"meu_pacote\"\n",
    "    > description = \"Código do projeto Saudação\"\n",
    "    > version = \"0.1.0\"\n",
    "    > readme = \"README.md\"\n",
    "    > dependencies = [\"colorama\"]\n",
    "    > ```\n",
    "\n",
    "Agora você pode instalar o pacote no seu ambiente Python. \n",
    "\n",
    "- Inicie o seu ambiente. Por exemplo `conda activate ml`. É sempre uma péssima idéia instalar pacotes no ambiente global (o `base` do `conda`, ou o Python do sistema).\n",
    "\n",
    "- Com o ambiente inicializado, mude seu diretório de trabalho no terminal para o diretório onde o arquivo `pyproject.toml` está.\n",
    "\n",
    "- Agora execute o comando de instalação do seu pacote no seu ambiente Python:\n",
    "\n",
    "    > ```bash\n",
    "    > pip install -e .\n",
    "    > ```\n",
    "\n",
    "Com isso você está instruindo o comando `pip`, de gerenciamento de pacotes Python, a instalar o seu pacote. O *flag* `-e` significa \"editável\": você pode fazer alterações à vontade no seu pacote instalado, e essas alterações estarão disponíveis para seus outros códigos."
   ]
  },
  {
   "cell_type": "markdown",
   "metadata": {},
   "source": [
    "<hr/>\n",
    "\n",
    "***Atividade***:\n",
    "\n",
    "Escreva e rode os códigos acima para ver que funcionam.\n",
    "\n",
    "<hr/>\n",
    "\n",
    "***Atividade***:\n",
    "\n",
    "Crie um notebook `meu_notebook.ipynb` na pasta `notebooks` de `meu_projeto`. Neste *notebook* você deve importar adequadamente o módulo `meu_modulo` do seu pacote `meu_pacote`. Chame a função `say_hello`.\n",
    "\n",
    "\n",
    "<hr/>\n",
    "\n",
    "\n"
   ]
  },
  {
   "cell_type": "markdown",
   "metadata": {},
   "source": [
    "\n",
    "Agora que você domina a criação de pacotes instaláveis Python, vamos criar o projeto \"Car Prices\"."
   ]
  },
  {
   "cell_type": "markdown",
   "metadata": {},
   "source": [
    "<hr/>\n",
    "\n",
    "***Atividade***\n",
    "\n",
    "Crie a seguinte estrutura de diretórios para o seu projeto:\n",
    "\n",
    "> ```text\n",
    "> car_prices/\n",
    "> ├── src/\n",
    "> │   └── car_prices/\n",
    "> │       ├── __init__.py\n",
    "> │       └── dataset.py\n",
    "> ├── notebooks\n",
    "> ├── scripts\n",
    "> ├── pyproject.toml\n",
    "> └── README.md\n",
    "> ```\n",
    "\n",
    "Agora transfira o código de leitura do *dataset* para o módulo `dataset.py`. Note que temos uma questão acerca da variável `DATA_DIR`, que não deve ser transferida."
   ]
  },
  {
   "cell_type": "markdown",
   "metadata": {},
   "source": []
  }
 ],
 "metadata": {
  "kernelspec": {
   "display_name": "ml",
   "language": "python",
   "name": "python3"
  },
  "language_info": {
   "codemirror_mode": {
    "name": "ipython",
    "version": 3
   },
   "file_extension": ".py",
   "mimetype": "text/x-python",
   "name": "python",
   "nbconvert_exporter": "python",
   "pygments_lexer": "ipython3",
   "version": "3.12.9"
  }
 },
 "nbformat": 4,
 "nbformat_minor": 2
}
