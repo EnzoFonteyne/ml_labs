{
 "cells": [
  {
   "cell_type": "markdown",
   "metadata": {
    "vscode": {
     "languageId": "html"
    }
   },
   "source": [
    "<center>\n",
    "    <span style=\"color:red;font-weight:bold;font-size:40pt\">\n",
    "        WORK IN PROGRESS\n",
    "    </span>\n",
    "</center>"
   ]
  },
  {
   "cell_type": "markdown",
   "metadata": {},
   "source": [
    "# Separação treino-teste\n",
    "\n",
    "***"
   ]
  },
  {
   "cell_type": "markdown",
   "metadata": {},
   "source": [
    "### Leitura dos dados"
   ]
  },
  {
   "cell_type": "code",
   "execution_count": 1,
   "metadata": {},
   "outputs": [],
   "source": [
    "import matplotlib.pyplot as plt\n",
    "import numpy as np\n",
    "import pandas as pd"
   ]
  },
  {
   "cell_type": "code",
   "execution_count": 2,
   "metadata": {},
   "outputs": [],
   "source": [
    "from dotenv import dotenv_values\n",
    "\n",
    "config = dotenv_values()\n",
    "DATA_DIR = config['DATA_DIR']"
   ]
  },
  {
   "cell_type": "code",
   "execution_count": 3,
   "metadata": {},
   "outputs": [],
   "source": [
    "from car_prices.dataset import load_car_dataset"
   ]
  },
  {
   "cell_type": "code",
   "execution_count": 4,
   "metadata": {},
   "outputs": [],
   "source": [
    "dataset = load_car_dataset(DATA_DIR)"
   ]
  },
  {
   "cell_type": "markdown",
   "metadata": {},
   "source": [
    "Vamos ver se a leitura de dados funcionou:"
   ]
  },
  {
   "cell_type": "code",
   "execution_count": 5,
   "metadata": {},
   "outputs": [
    {
     "name": "stdout",
     "output_type": "stream",
     "text": [
      "<class 'pandas.core.frame.DataFrame'>\n",
      "RangeIndex: 10000 entries, 0 to 9999\n",
      "Data columns (total 10 columns):\n",
      " #   Column        Non-Null Count  Dtype  \n",
      "---  ------        --------------  -----  \n",
      " 0   Brand         10000 non-null  object \n",
      " 1   Model         10000 non-null  object \n",
      " 2   Year          10000 non-null  int64  \n",
      " 3   Engine_Size   10000 non-null  float64\n",
      " 4   Fuel_Type     10000 non-null  object \n",
      " 5   Transmission  10000 non-null  object \n",
      " 6   Mileage       10000 non-null  int64  \n",
      " 7   Doors         10000 non-null  int64  \n",
      " 8   Owner_Count   10000 non-null  int64  \n",
      " 9   Price         10000 non-null  int64  \n",
      "dtypes: float64(1), int64(5), object(4)\n",
      "memory usage: 781.4+ KB\n"
     ]
    }
   ],
   "source": [
    "dataset.info()"
   ]
  },
  {
   "cell_type": "code",
   "execution_count": 6,
   "metadata": {},
   "outputs": [
    {
     "data": {
      "application/vnd.microsoft.datawrangler.viewer.v0+json": {
       "columns": [
        {
         "name": "index",
         "rawType": "int64",
         "type": "integer"
        },
        {
         "name": "Brand",
         "rawType": "object",
         "type": "string"
        },
        {
         "name": "Model",
         "rawType": "object",
         "type": "string"
        },
        {
         "name": "Year",
         "rawType": "int64",
         "type": "integer"
        },
        {
         "name": "Engine_Size",
         "rawType": "float64",
         "type": "float"
        },
        {
         "name": "Fuel_Type",
         "rawType": "object",
         "type": "string"
        },
        {
         "name": "Transmission",
         "rawType": "object",
         "type": "string"
        },
        {
         "name": "Mileage",
         "rawType": "int64",
         "type": "integer"
        },
        {
         "name": "Doors",
         "rawType": "int64",
         "type": "integer"
        },
        {
         "name": "Owner_Count",
         "rawType": "int64",
         "type": "integer"
        },
        {
         "name": "Price",
         "rawType": "int64",
         "type": "integer"
        }
       ],
       "conversionMethod": "pd.DataFrame",
       "ref": "d3c43134-e4b7-4ccd-968b-39f75702ef02",
       "rows": [
        [
         "0",
         "Kia",
         "Rio",
         "2020",
         "4.2",
         "Diesel",
         "Manual",
         "289944",
         "3",
         "5",
         "8501"
        ],
        [
         "1",
         "Chevrolet",
         "Malibu",
         "2012",
         "2.0",
         "Hybrid",
         "Automatic",
         "5356",
         "2",
         "3",
         "12092"
        ],
        [
         "2",
         "Mercedes",
         "GLA",
         "2020",
         "4.2",
         "Diesel",
         "Automatic",
         "231440",
         "4",
         "2",
         "11171"
        ],
        [
         "3",
         "Audi",
         "Q5",
         "2023",
         "2.0",
         "Electric",
         "Manual",
         "160971",
         "2",
         "1",
         "11780"
        ],
        [
         "4",
         "Volkswagen",
         "Golf",
         "2003",
         "2.6",
         "Hybrid",
         "Semi-Automatic",
         "286618",
         "3",
         "3",
         "2867"
        ]
       ],
       "shape": {
        "columns": 10,
        "rows": 5
       }
      },
      "text/html": [
       "<div>\n",
       "<style scoped>\n",
       "    .dataframe tbody tr th:only-of-type {\n",
       "        vertical-align: middle;\n",
       "    }\n",
       "\n",
       "    .dataframe tbody tr th {\n",
       "        vertical-align: top;\n",
       "    }\n",
       "\n",
       "    .dataframe thead th {\n",
       "        text-align: right;\n",
       "    }\n",
       "</style>\n",
       "<table border=\"1\" class=\"dataframe\">\n",
       "  <thead>\n",
       "    <tr style=\"text-align: right;\">\n",
       "      <th></th>\n",
       "      <th>Brand</th>\n",
       "      <th>Model</th>\n",
       "      <th>Year</th>\n",
       "      <th>Engine_Size</th>\n",
       "      <th>Fuel_Type</th>\n",
       "      <th>Transmission</th>\n",
       "      <th>Mileage</th>\n",
       "      <th>Doors</th>\n",
       "      <th>Owner_Count</th>\n",
       "      <th>Price</th>\n",
       "    </tr>\n",
       "  </thead>\n",
       "  <tbody>\n",
       "    <tr>\n",
       "      <th>0</th>\n",
       "      <td>Kia</td>\n",
       "      <td>Rio</td>\n",
       "      <td>2020</td>\n",
       "      <td>4.2</td>\n",
       "      <td>Diesel</td>\n",
       "      <td>Manual</td>\n",
       "      <td>289944</td>\n",
       "      <td>3</td>\n",
       "      <td>5</td>\n",
       "      <td>8501</td>\n",
       "    </tr>\n",
       "    <tr>\n",
       "      <th>1</th>\n",
       "      <td>Chevrolet</td>\n",
       "      <td>Malibu</td>\n",
       "      <td>2012</td>\n",
       "      <td>2.0</td>\n",
       "      <td>Hybrid</td>\n",
       "      <td>Automatic</td>\n",
       "      <td>5356</td>\n",
       "      <td>2</td>\n",
       "      <td>3</td>\n",
       "      <td>12092</td>\n",
       "    </tr>\n",
       "    <tr>\n",
       "      <th>2</th>\n",
       "      <td>Mercedes</td>\n",
       "      <td>GLA</td>\n",
       "      <td>2020</td>\n",
       "      <td>4.2</td>\n",
       "      <td>Diesel</td>\n",
       "      <td>Automatic</td>\n",
       "      <td>231440</td>\n",
       "      <td>4</td>\n",
       "      <td>2</td>\n",
       "      <td>11171</td>\n",
       "    </tr>\n",
       "    <tr>\n",
       "      <th>3</th>\n",
       "      <td>Audi</td>\n",
       "      <td>Q5</td>\n",
       "      <td>2023</td>\n",
       "      <td>2.0</td>\n",
       "      <td>Electric</td>\n",
       "      <td>Manual</td>\n",
       "      <td>160971</td>\n",
       "      <td>2</td>\n",
       "      <td>1</td>\n",
       "      <td>11780</td>\n",
       "    </tr>\n",
       "    <tr>\n",
       "      <th>4</th>\n",
       "      <td>Volkswagen</td>\n",
       "      <td>Golf</td>\n",
       "      <td>2003</td>\n",
       "      <td>2.6</td>\n",
       "      <td>Hybrid</td>\n",
       "      <td>Semi-Automatic</td>\n",
       "      <td>286618</td>\n",
       "      <td>3</td>\n",
       "      <td>3</td>\n",
       "      <td>2867</td>\n",
       "    </tr>\n",
       "  </tbody>\n",
       "</table>\n",
       "</div>"
      ],
      "text/plain": [
       "        Brand   Model  Year  Engine_Size Fuel_Type    Transmission  Mileage  \\\n",
       "0         Kia     Rio  2020          4.2    Diesel          Manual   289944   \n",
       "1   Chevrolet  Malibu  2012          2.0    Hybrid       Automatic     5356   \n",
       "2    Mercedes     GLA  2020          4.2    Diesel       Automatic   231440   \n",
       "3        Audi      Q5  2023          2.0  Electric          Manual   160971   \n",
       "4  Volkswagen    Golf  2003          2.6    Hybrid  Semi-Automatic   286618   \n",
       "\n",
       "   Doors  Owner_Count  Price  \n",
       "0      3            5   8501  \n",
       "1      2            3  12092  \n",
       "2      4            2  11171  \n",
       "3      2            1  11780  \n",
       "4      3            3   2867  "
      ]
     },
     "execution_count": 6,
     "metadata": {},
     "output_type": "execute_result"
    }
   ],
   "source": [
    "dataset.head(5)"
   ]
  },
  {
   "cell_type": "markdown",
   "metadata": {},
   "source": [
    "### Separação treino-teste"
   ]
  },
  {
   "cell_type": "markdown",
   "metadata": {},
   "source": [
    "Devemos separar uma parte do conjunto de dados completo para ser usada no **treino** do modelo, e outra parte será reservada para o **teste** do modelo.\n",
    "\n",
    "A biblioteca *Scikit-Learn* já possui VÁRIAS funções e classes no módulo `sklearn.model_selection` para efetuar a separação treino-teste, com diferentes requisitos:\n",
    "\n",
    "- `train_test_split`\n",
    "\n",
    "    Esta é a função básica de separação de um dataset em treino e teste.\n",
    "\n",
    "- `ShuffleSplit`\n",
    "\n",
    "    Esta classe faz o `train_test_split` várias vezes, serve para fazer avaliação de modelos com *bootstrap* por exemplo.\n",
    "\n",
    "- `StratifiedShuffleSplit`\n",
    "\n",
    "    Esta classe faz a mesma coisa que o `ShuffleSplit`, mas permite indicar uma ou mais variáveis categóricas como critério para *estratificação*. Neste processo, os dados são inicialmente agrupados de acordo com as variáveis categóricas indicadas, e depois o `train_test_split` é realizado para cada grupo.\n",
    "\n",
    "    Na verdade, é o `train_test_split` que é um `StratifiedShuffleSplit` disfarçado, no qual a variável de estratificação é o *target*!\n",
    "\n",
    "Vamos usar somente o `train_test_split` por enquanto - só lembre-se que existem outras facilidades no *Scikit-Learn* para te ajudar em tarefas mais complexas, ok?"
   ]
  },
  {
   "cell_type": "markdown",
   "metadata": {},
   "source": [
    "### Separações treino-teste são permanentes!"
   ]
  },
  {
   "cell_type": "markdown",
   "metadata": {},
   "source": [
    "É importante que a separação treino-teste seja feita do mesmo jeito toda vez que o experimento de análise, modelagem, etc., é executado. Caso contrário corremos o risco de *data snooping*: aos poucos vamos conhecendo o *dataset* completo, e a separação treino-teste para de fazer sentido!\n",
    "\n",
    "Para fazer isso vamos sempre registrar *metadados* ou *configuração* do experimento: dados acerca dos dados do experimento! Assim conseguimos *reproducibilidade* em nossos experimentos, algo fundamental em Ciência!"
   ]
  },
  {
   "cell_type": "code",
   "execution_count": 7,
   "metadata": {},
   "outputs": [],
   "source": [
    "import json\n",
    "import shutil\n",
    "from dataclasses import dataclass, asdict\n",
    "from pathlib import Path\n",
    "from typing import Any\n",
    "\n",
    "import pandas as pd\n",
    "from sklearn.model_selection import train_test_split"
   ]
  },
  {
   "cell_type": "code",
   "execution_count": 8,
   "metadata": {},
   "outputs": [],
   "source": [
    "@dataclass\n",
    "class ExperimentConfig:\n",
    "    test_size: float\n",
    "    random_state: int\n",
    "\n",
    "\n",
    "def make_experiment_filepaths(\n",
    "    project_name: str,\n",
    "    data_dir: str | Path,\n",
    ") -> tuple[Path, str, str, str]:\n",
    "    data_dir = Path(data_dir)\n",
    "    split_folder = 'processed'\n",
    "    basepath = data_dir / project_name / split_folder\n",
    "\n",
    "    train_filename = 'train.csv'\n",
    "    test_filename = 'test.csv'\n",
    "    metadata_filename = 'metadata.csv'\n",
    "\n",
    "    return basepath, train_filename, test_filename, metadata_filename\n",
    "\n",
    "\n",
    "def split_train_test(\n",
    "    dataset: pd.DataFrame,\n",
    "    metadata: ExperimentConfig,\n",
    ") -> tuple[pd.DataFrame, pd.DataFrame]:\n",
    "\n",
    "    train_dataset, test_dataset = train_test_split(\n",
    "        dataset,\n",
    "        test_size=metadata.test_size,\n",
    "        random_state=metadata.random_state,\n",
    "    )\n",
    "\n",
    "    return train_dataset, test_dataset\n",
    "\n",
    "\n",
    "def save_dataset(\n",
    "    dataset: pd.DataFrame,\n",
    "    filepath: Path,\n",
    ") -> None:\n",
    "    dataset.to_csv(filepath, index=False)\n",
    "\n",
    "\n",
    "def save_metadata(\n",
    "    metadata: ExperimentConfig,\n",
    "    filepath: Path,\n",
    ") -> None:\n",
    "    metadata_dict = asdict(metadata)\n",
    "    with open(filepath, 'w', encoding='utf8') as metadata_file:\n",
    "        json.dump(metadata_dict, metadata_file, indent=4)\n",
    "\n",
    "\n",
    "def save_datasets_and_metadata(\n",
    "    train_dataset: pd.DataFrame,\n",
    "    test_dataset: pd.DataFrame,\n",
    "    metadata: ExperimentConfig,\n",
    "    data_dir: str | Path,\n",
    "    project_name: str,\n",
    ") -> None:\n",
    "    (\n",
    "        basepath,\n",
    "        train_filename,\n",
    "        test_filename,\n",
    "        metadata_filename,\n",
    "    ) = make_experiment_filepaths(\n",
    "        data_dir=data_dir,\n",
    "        project_name=project_name,\n",
    "    )\n",
    "\n",
    "    train_filepath = basepath / train_filename\n",
    "    test_filepath = basepath / test_filename\n",
    "    metadata_filepath = basepath / metadata_filename\n",
    "\n",
    "    try:\n",
    "        basepath.mkdir(parents=True, exist_ok=True)\n",
    "        save_dataset(train_dataset, train_filepath)\n",
    "        save_dataset(test_dataset, test_filepath)\n",
    "        save_metadata(metadata, metadata_filepath)\n",
    "    except OSError as e:\n",
    "        print(f'Error saving datasets and metadata: {e}')\n",
    "        shutil.rmtree(basepath)\n",
    "        raise e\n",
    "\n",
    "\n",
    "def split_train_test_and_save(\n",
    "    dataset: pd.DataFrame,\n",
    "    metadata: ExperimentConfig,\n",
    "    data_dir: str | Path,\n",
    "    project_name: str,\n",
    ") -> None:\n",
    "    train_dataset, test_dataset = split_train_test(dataset, metadata)\n",
    "    save_datasets_and_metadata(\n",
    "        train_dataset,\n",
    "        test_dataset,\n",
    "        metadata,\n",
    "        data_dir,\n",
    "        project_name,\n",
    "    )\n"
   ]
  },
  {
   "cell_type": "code",
   "execution_count": null,
   "metadata": {},
   "outputs": [],
   "source": [
    "PROJECT_NAME = 'car_price'"
   ]
  },
  {
   "cell_type": "code",
   "execution_count": 10,
   "metadata": {},
   "outputs": [],
   "source": [
    "metadata = ExperimentConfig(\n",
    "    test_size=0.2,\n",
    "    random_state=42,\n",
    ")"
   ]
  },
  {
   "cell_type": "code",
   "execution_count": 12,
   "metadata": {},
   "outputs": [],
   "source": [
    "split_train_test_and_save(dataset, metadata, DATA_DIR, PROJECT_NAME)"
   ]
  },
  {
   "cell_type": "markdown",
   "metadata": {},
   "source": [
    "***\n",
    "\n",
    "***Atividade***\n",
    "\n",
    "Verifique que o código acima funcionou, e que os arquivos de treino, teste e metadata foram gravados."
   ]
  },
  {
   "cell_type": "markdown",
   "metadata": {},
   "source": [
    "***\n",
    "\n",
    "***Resposta***\n",
    "\n",
    "<img src=\"train_test_metadata_files.png\" width=20%/>"
   ]
  },
  {
   "cell_type": "markdown",
   "metadata": {},
   "source": [
    "***\n",
    "\n",
    "***Atividade***\n",
    "\n",
    "Escreva uma função\n",
    "\n",
    "> ```Python\n",
    "> def load_car_dataset_split(\n",
    ">     data_dir: str | Path,\n",
    ">     project_name: str,\n",
    "> ) -> tuple[pd.DataFrame, pd.DataFrame, ExperimentConfig]:\n",
    ">     ...\n",
    "> ```\n",
    "\n",
    "que lê e retorna os conjuntos de treino, teste, e os metadados."
   ]
  },
  {
   "cell_type": "markdown",
   "metadata": {},
   "source": [
    "***\n",
    "\n",
    "***Resposta***"
   ]
  },
  {
   "cell_type": "code",
   "execution_count": 14,
   "metadata": {},
   "outputs": [],
   "source": [
    "def load_car_dataset_split(\n",
    "    data_dir: str | Path,\n",
    "    project_name: str,\n",
    ") -> tuple[pd.DataFrame, pd.DataFrame, ExperimentConfig]:\n",
    "    data_dir = Path(data_dir)\n",
    "\n",
    "    split_dataset_dir = data_dir / project_name / 'processed'\n",
    "\n",
    "    train_dataset_path = split_dataset_dir / 'train.csv'\n",
    "    test_dataset_path = split_dataset_dir / 'test.csv'\n",
    "    metadata_path = split_dataset_dir / 'metadata.csv'\n",
    "\n",
    "    train_dataset = pd.read_csv(train_dataset_path)\n",
    "    test_dataset = pd.read_csv(test_dataset_path)\n",
    "\n",
    "    with open(metadata_path, 'r', encoding='utf8') as metadata_file:\n",
    "        metadata_dict = json.load(metadata_file)\n",
    "\n",
    "    metadata = ExperimentConfig(**metadata_dict)\n",
    "\n",
    "    return train_dataset, test_dataset, metadata"
   ]
  },
  {
   "cell_type": "code",
   "execution_count": 16,
   "metadata": {},
   "outputs": [],
   "source": [
    "(\n",
    "    train_dataset,\n",
    "    test_dataset,\n",
    "    metadata,\n",
    ") = load_car_dataset_split(DATA_DIR, PROJECT_NAME)"
   ]
  },
  {
   "cell_type": "code",
   "execution_count": 17,
   "metadata": {},
   "outputs": [
    {
     "name": "stdout",
     "output_type": "stream",
     "text": [
      "<class 'pandas.core.frame.DataFrame'>\n",
      "RangeIndex: 8000 entries, 0 to 7999\n",
      "Data columns (total 10 columns):\n",
      " #   Column        Non-Null Count  Dtype  \n",
      "---  ------        --------------  -----  \n",
      " 0   Brand         8000 non-null   object \n",
      " 1   Model         8000 non-null   object \n",
      " 2   Year          8000 non-null   int64  \n",
      " 3   Engine_Size   8000 non-null   float64\n",
      " 4   Fuel_Type     8000 non-null   object \n",
      " 5   Transmission  8000 non-null   object \n",
      " 6   Mileage       8000 non-null   int64  \n",
      " 7   Doors         8000 non-null   int64  \n",
      " 8   Owner_Count   8000 non-null   int64  \n",
      " 9   Price         8000 non-null   int64  \n",
      "dtypes: float64(1), int64(5), object(4)\n",
      "memory usage: 625.1+ KB\n"
     ]
    }
   ],
   "source": [
    "train_dataset.info()"
   ]
  },
  {
   "cell_type": "code",
   "execution_count": 18,
   "metadata": {},
   "outputs": [
    {
     "name": "stdout",
     "output_type": "stream",
     "text": [
      "<class 'pandas.core.frame.DataFrame'>\n",
      "RangeIndex: 2000 entries, 0 to 1999\n",
      "Data columns (total 10 columns):\n",
      " #   Column        Non-Null Count  Dtype  \n",
      "---  ------        --------------  -----  \n",
      " 0   Brand         2000 non-null   object \n",
      " 1   Model         2000 non-null   object \n",
      " 2   Year          2000 non-null   int64  \n",
      " 3   Engine_Size   2000 non-null   float64\n",
      " 4   Fuel_Type     2000 non-null   object \n",
      " 5   Transmission  2000 non-null   object \n",
      " 6   Mileage       2000 non-null   int64  \n",
      " 7   Doors         2000 non-null   int64  \n",
      " 8   Owner_Count   2000 non-null   int64  \n",
      " 9   Price         2000 non-null   int64  \n",
      "dtypes: float64(1), int64(5), object(4)\n",
      "memory usage: 156.4+ KB\n"
     ]
    }
   ],
   "source": [
    "test_dataset.info()"
   ]
  },
  {
   "cell_type": "code",
   "execution_count": 19,
   "metadata": {},
   "outputs": [
    {
     "data": {
      "text/plain": [
       "ExperimentConfig(test_size=0.2, random_state=42)"
      ]
     },
     "execution_count": 19,
     "metadata": {},
     "output_type": "execute_result"
    }
   ],
   "source": [
    "metadata"
   ]
  },
  {
   "cell_type": "markdown",
   "metadata": {},
   "source": [
    "***\n",
    "\n",
    "***Atividade***\n",
    "\n",
    "Incorpore estes códigos ao projeto, no módulo `dataset.py`\n"
   ]
  },
  {
   "cell_type": "markdown",
   "metadata": {},
   "source": []
  }
 ],
 "metadata": {
  "kernelspec": {
   "display_name": "ml",
   "language": "python",
   "name": "python3"
  },
  "language_info": {
   "codemirror_mode": {
    "name": "ipython",
    "version": 3
   },
   "file_extension": ".py",
   "mimetype": "text/x-python",
   "name": "python",
   "nbconvert_exporter": "python",
   "pygments_lexer": "ipython3",
   "version": "3.12.9"
  }
 },
 "nbformat": 4,
 "nbformat_minor": 2
}
