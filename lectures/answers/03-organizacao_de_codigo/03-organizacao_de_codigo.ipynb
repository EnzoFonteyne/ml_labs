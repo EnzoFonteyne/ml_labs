{
 "cells": [
  {
   "cell_type": "markdown",
   "metadata": {},
   "source": [
    "# Um projeto de *machine learning*"
   ]
  },
  {
   "cell_type": "markdown",
   "metadata": {},
   "source": [
    "## Respostas"
   ]
  },
  {
   "cell_type": "markdown",
   "metadata": {},
   "source": [
    "***\n",
    "\n",
    "***Atividade***:\n",
    "\n",
    "Escreva e rode os códigos acima para ver que funcionam."
   ]
  },
  {
   "cell_type": "markdown",
   "metadata": {},
   "source": [
    "***Resposta***\n",
    "\n",
    "Verifique os diretórios `exemplo_01` a `exemplo_04`."
   ]
  },
  {
   "cell_type": "markdown",
   "metadata": {},
   "source": [
    "***\n",
    "\n",
    "***Atividade***\n",
    "\n",
    "Crie a seguinte estrutura de diretórios para o seu projeto:\n",
    "\n",
    "> ```text\n",
    "> car_prices/\n",
    "> ├── src/\n",
    "> │   └── car_prices/\n",
    "> │       ├── __init__.py\n",
    "> │       └── dataset.py\n",
    "> ├── notebooks\n",
    "> ├── scripts\n",
    "> ├── pyproject.toml\n",
    "> └── README.md\n",
    "> ```\n",
    "\n",
    "Agora transfira o código de leitura do *dataset* para o módulo `dataset.py`. Note que temos uma questão acerca da variável `DATA_DIR`, que não deve ser transferida."
   ]
  },
  {
   "cell_type": "markdown",
   "metadata": {},
   "source": [
    "***Resposta***\n",
    "\n",
    "O código deste projeto está implementado no diretório `projects`, na raiz deste repositório."
   ]
  }
 ],
 "metadata": {
  "kernelspec": {
   "display_name": "ml",
   "language": "python",
   "name": "python3"
  },
  "language_info": {
   "codemirror_mode": {
    "name": "ipython",
    "version": 3
   },
   "file_extension": ".py",
   "mimetype": "text/x-python",
   "name": "python",
   "nbconvert_exporter": "python",
   "pygments_lexer": "ipython3",
   "version": "3.12.9"
  }
 },
 "nbformat": 4,
 "nbformat_minor": 2
}
